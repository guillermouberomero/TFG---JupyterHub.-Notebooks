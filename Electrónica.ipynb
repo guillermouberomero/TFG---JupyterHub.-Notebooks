{
 "cells": [
  {
   "cell_type": "markdown",
   "id": "75dc4012",
   "metadata": {},
   "source": [
    "# Electrónica. PID\n",
    "\n",
    "En este notebook se presenta un ejemplo de uso de los widgets con Python, aplicado a la electrónica. Concretamente se añade un Controlador PID a un sistema para mejorar la respuesta ante un escalón."
   ]
  },
  {
   "cell_type": "markdown",
   "id": "e2162abe",
   "metadata": {},
   "source": [
    "![](PID.png) "
   ]
  },
  {
   "cell_type": "markdown",
   "id": "d265f315",
   "metadata": {},
   "source": [
    "A continuación, se muestra el código del programa que añade un controlador PID al sistema, grafica las variables, y muestra los sliders para dar al usuario la capacidad de realizar su propio experimento. **Ejecute** las siguientes celdas."
   ]
  },
  {
   "cell_type": "code",
   "execution_count": null,
   "id": "07403db8",
   "metadata": {},
   "outputs": [],
   "source": [
    "import numpy as np\n",
    "import matplotlib.pyplot as plt\n",
    "from scipy.integrate import odeint\n",
    "import ipywidgets as widgets\n",
    "from IPython.display import display"
   ]
  },
  {
   "cell_type": "code",
   "execution_count": null,
   "id": "32e9b06e",
   "metadata": {},
   "outputs": [],
   "source": [
    "n = 100             # Número de puntos a representar\n",
    "tf = 25.0           # Tiempo final\n",
    "SP_start = 2.0      # Tiempo hasta que cambie la consigna\n",
    "\n",
    "def planta(y,t,u):\n",
    "    retardo = 1.0  # Retraso de la señal respecto a la consigna\n",
    "    if t<(retardo+SP_start):\n",
    "        dydt = 0.0  \n",
    "    else:\n",
    "        dydt = (2/7) * (5 * u - 2 * y + 3.75)\n",
    "    return dydt\n",
    "\n",
    "def pidPlot(Kc,Ti,Td):\n",
    "    t = np.linspace(0,tf,n)                 # Crea vector de tiempo --> linspace(inicio, final, n_puntos)\n",
    "    P= np.zeros(n)                          # Inicializa el término Porporcional\n",
    "    I = np.zeros(n)                         # Inicializa el término Integral\n",
    "    D = np.zeros(n)                         # Inicializa el término Derivativo\n",
    "    e = np.zeros(n)                         # Inicializa el error\n",
    "    C_out = np.zeros(n)                     # Inicializa la salida del Controlador PID\n",
    "    PV = np.zeros(n)                        # Inicializa la variable del proceso\n",
    "    SP = np.zeros(n)                        # Inicializa consigna (Set Point)\n",
    "    SP_init = int(n/10)                     # Inicio del escalón\n",
    "    SP[0:SP_init] = 0.0                     # Antes de escalón\n",
    "    SP[SP_init:n] = 5.0                     # Después de escalón\n",
    "    y0 = 0.0                                # Condición inicial\n",
    "    \n",
    "    # Se halla la salida en cada iteración\n",
    "    for i in range(1,n):\n",
    "        # Se simula el proceso para cada intervalo de tiempo\n",
    "        ts = [t[i-1],t[i]]                           # Intervalo de tiempo\n",
    "        y = odeint(planta,y0,ts,args=(C_out[i-1],))  # Halla la salida\n",
    "        y0 = y[1]                                    # Guarda la salida para la siguiente condición inicial\n",
    "        # Calcula la nueva salida del controlador C_out\n",
    "        PV[i] = y[1]                                 # Actualiza la variable del proceso (realimentación = 1)\n",
    "        e[i] = SP[i] - PV[i]                         # Calcula el error = SP - PV\n",
    "        dt = t[i] - t[i-1]                           # Aproxima dt por su variación dt≂Δt=tf-ti\n",
    "        P[i] = Kc * e[i]                             # Calcula el término Porporcional\n",
    "        I[i] = I[i-1] + (Kc/Ti) * e[i] * dt          # Calcula el término Integral\n",
    "        D[i] = -Kc * Td * (e[i]-e[i-1])/dt           # Calcula el término Derivativo\n",
    "        C_out[i] = P[i] + I[i] + D[i]                # Calcula la nueva salida del controlador PID\n",
    "        \n",
    "    # Representación gráfica de las variables\n",
    "    plt.figure(1,figsize=(15,10))\n",
    "    plt.subplot(2,2,1)\n",
    "    plt.plot(t,SP,'k-',linewidth=2,label='Consigna (SP)')\n",
    "    plt.plot(t,PV,'r:',linewidth=2,label='Variable del proceso (PV)')\n",
    "    plt.legend(loc='best')\n",
    "    plt.grid()\n",
    "    plt.xlabel('t')\n",
    "    plt.subplot(2,2,2)\n",
    "    plt.plot(t,P,'g-',linewidth=2,label=r'Proporcional = $K_c \\; e(t)$')\n",
    "    plt.plot(t,I,'b-',linewidth=2,label=r'Integral = $\\frac{K_c}{T_i} \\int_{i=0}^{t} e(t) \\; dt $')\n",
    "    plt.plot(t,D,'r--',linewidth=2,label=r'Derivativo = $-K_c T_d \\frac{de(t)}{dt}$')    \n",
    "    plt.legend(loc='best')\n",
    "    plt.grid()\n",
    "    plt.xlabel('t')\n",
    "    plt.subplot(2,2,3)\n",
    "    plt.plot(t,e,'m--',linewidth=2,label='Error (SP-PV)')\n",
    "    plt.legend(loc='best')\n",
    "    plt.grid()\n",
    "    plt.xlabel('t')\n",
    "    plt.subplot(2,2,4)\n",
    "    plt.plot(t,C_out,'b--',linewidth=2,label='Salida del PID (C_out)')\n",
    "    plt.legend(loc='best')\n",
    "    plt.grid()\n",
    "    plt.xlabel('t')\n",
    "    plt.show()\n",
    "    \n",
    "Kc_slider = widgets.FloatSlider(value=0.0,min=-0.25,max=7.0,step=0.05)\n",
    "Ti_slider = widgets.FloatSlider(value=4.0,min=0.01,max=7.0,step=0.1)\n",
    "Td_slider = widgets.FloatSlider(value=0.0,min=0.0,max=2.0,step=0.1)\n",
    "\n",
    "widgets.interact(pidPlot, Kc=Kc_slider, Ti=Ti_slider, Td=Td_slider);"
   ]
  },
  {
   "cell_type": "markdown",
   "id": "5682a8e6",
   "metadata": {},
   "source": [
    "**¡Modifica los parámetros a tu gusto para crear tu propio PID!** Si lo necesitas, puedes modifica la planta para estabilizar tu propio sistema."
   ]
  }
 ],
 "metadata": {
  "kernelspec": {
   "display_name": "Python 3 (ipykernel)",
   "language": "python",
   "name": "python3"
  },
  "language_info": {
   "codemirror_mode": {
    "name": "ipython",
    "version": 3
   },
   "file_extension": ".py",
   "mimetype": "text/x-python",
   "name": "python",
   "nbconvert_exporter": "python",
   "pygments_lexer": "ipython3",
   "version": "3.9.12"
  }
 },
 "nbformat": 4,
 "nbformat_minor": 5
}
