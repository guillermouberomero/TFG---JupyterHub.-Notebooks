{
 "cells": [
  {
   "cell_type": "markdown",
   "id": "edf595e9",
   "metadata": {},
   "source": [
    "# Widgets. ¡Aprende a usarlos!\n",
    "\n",
    "En este documento se muestra una pequeña guía interactiva del uso de los widgets, dando protagonismo al usuario para ejecutar las celdas y poder modificar los parámetros. En el apartado final se presenta un ejemplo de aplicación con un filtro electrónico.\n",
    "\n",
    "![](jupyter.png) "
   ]
  },
  {
   "cell_type": "markdown",
   "id": "55a0e975",
   "metadata": {},
   "source": [
    "## Introducción\n",
    "\n",
    "Los **widgets** son objetos interactivos de Python que dan al usuario el control sobre su representación, tales como una barra deslizante (slider) o una caja de texto. Son elementos muy útiles que aumentan la **interactividad** de los notebooks, pues gracias a ellos se puede visualizar información de manera mucho más gráfica. Para su uso, es necesario importar la librería **ipywidgets**. Esta librería contiene multitud de funciones muy útiles.\n",
    "\n",
    "Los widgets tienen su propio sistema de representación, y se dibujan debajo de la celda ejecutada. También se pueden mostrar explícitamente con `display(…)`\n",
    "\n"
   ]
  },
  {
   "cell_type": "markdown",
   "id": "766e8643",
   "metadata": {},
   "source": [
    "## 1. Primeros pasos con widgets...\n",
    "\n",
    "**Ejecute** la siguiente celda para ver un *Slider*."
   ]
  },
  {
   "cell_type": "code",
   "execution_count": null,
   "id": "5473e35d",
   "metadata": {},
   "outputs": [],
   "source": [
    "import ipywidgets as widgets\n",
    "from IPython.display import display\n",
    "w = widgets.IntSlider()\n",
    "display(w)"
   ]
  },
  {
   "cell_type": "markdown",
   "id": "1907cef1",
   "metadata": {},
   "source": [
    "Si se dibujan varias instancias del mismo widget, estas estarán en sincronía unas con otras, de forma que, si varía una, el resultado se mostrará en todas las instancias de ese objeto.\n",
    "\n",
    "**Ejecute** la siguiente celda y pruebe a variar alguno de los *Sliders*."
   ]
  },
  {
   "cell_type": "code",
   "execution_count": null,
   "id": "24f517ed",
   "metadata": {},
   "outputs": [],
   "source": [
    "display(w)\n",
    "display(w)"
   ]
  },
  {
   "cell_type": "markdown",
   "id": "f732d3d2",
   "metadata": {},
   "source": [
    "Cada widget tiene unas **propiedades** que se pueden editar, como valor, descripción, etc. Estos aspectos se pueden indicar en la construcción del objeto o a posteriori. Para listar todas las propiedades se utiliza el atributo ‘keys’.\n",
    "\n",
    "\n",
    "**Ejecute** la siguiente celda para ver qué atributos tiene el slider que ha creado anteriormente."
   ]
  },
  {
   "cell_type": "code",
   "execution_count": null,
   "id": "067f52e4",
   "metadata": {},
   "outputs": [],
   "source": [
    "w.keys"
   ]
  },
  {
   "cell_type": "markdown",
   "id": "d59e3fc5",
   "metadata": {},
   "source": [
    "## 2. ¿Qué tipos de widgets existen?\n",
    "\n",
    "Pero existen además otros tipos de widgets: cajas de texto, botones, selectores de color, casillas de selección, etc.\n",
    "\n",
    "**Ejecute** cada celda de código para ver el resultado."
   ]
  },
  {
   "cell_type": "code",
   "execution_count": null,
   "id": "f3b6d0e2",
   "metadata": {},
   "outputs": [],
   "source": [
    "widgets.Text(value='Hola Mundo!', disabled=True)"
   ]
  },
  {
   "cell_type": "code",
   "execution_count": null,
   "id": "ad2dcdc2",
   "metadata": {},
   "outputs": [],
   "source": [
    "widgets.BoundedIntText(\n",
    "    value=7,               # valor inicial\n",
    "    min=0,                 # límite menor\n",
    "    max=10,                # límite mayor\n",
    "    step=1,                # intervalo entre valores\n",
    "    description='Test',    # descripción\n",
    "    disabled=False         # deshabilitar interacción\n",
    ")"
   ]
  },
  {
   "cell_type": "code",
   "execution_count": null,
   "id": "ff233fb0",
   "metadata": {},
   "outputs": [],
   "source": [
    "widgets.Checkbox(\n",
    "    value=False,\n",
    "    description='Check me',\n",
    "    disabled=False,\n",
    "    indent=True             # aplicar sangría\n",
    ")"
   ]
  },
  {
   "cell_type": "code",
   "execution_count": null,
   "id": "17c7624b",
   "metadata": {},
   "outputs": [],
   "source": [
    "widgets.Dropdown(\n",
    "    options=['física', 'matemáticas', 'química'],\n",
    "    value='física',\n",
    "    description='Asignatura:',\n",
    "    disabled=False,\n",
    ")"
   ]
  },
  {
   "cell_type": "code",
   "execution_count": null,
   "id": "15569398",
   "metadata": {},
   "outputs": [],
   "source": [
    "widgets.RadioButtons(\n",
    "    options=['azul', 'verde', 'rojo', 'amarillo'],\n",
    "    description='color:',\n",
    "    disabled=False\n",
    ")"
   ]
  },
  {
   "cell_type": "code",
   "execution_count": null,
   "id": "25eca35d",
   "metadata": {},
   "outputs": [],
   "source": [
    "widgets.ToggleButtons(\n",
    "    options=['Madrid', 'Barcelona', 'Valencia'],\n",
    "    description='Ciudad:',\n",
    "    button_style='info', # 'success', 'info', 'warning', 'danger' o ''\n",
    "    tooltips=['Comunidad de Madrid', 'Cataluña', 'Comunidad Valenciana']\n",
    ")"
   ]
  },
  {
   "cell_type": "markdown",
   "id": "68728232",
   "metadata": {},
   "source": [
    "También existe la posibilidad de vincular varios widgets distintos (*jslink o link*) para mostrar el mismo valor de distintas maneras."
   ]
  },
  {
   "cell_type": "code",
   "execution_count": null,
   "id": "95db027e",
   "metadata": {},
   "outputs": [],
   "source": [
    "a = widgets.FloatText()\n",
    "b = widgets.FloatSlider(\n",
    "    min=-20,                  \n",
    "    max=50,                    \n",
    "    description='¡Muéveme!',   \n",
    "    step=2)                 \n",
    "display(a,b)\n",
    "mylink = widgets.jslink((a, 'value'), (b, 'value'))"
   ]
  },
  {
   "cell_type": "markdown",
   "id": "c608b891",
   "metadata": {},
   "source": [
    "O de modificar la presentación de los datos:"
   ]
  },
  {
   "cell_type": "code",
   "execution_count": null,
   "id": "df60d782",
   "metadata": {},
   "outputs": [],
   "source": [
    "secciones = widgets.Accordion(children=[widgets.ColorPicker(), widgets.Text()])\n",
    "secciones.set_title(0, 'Elige un color!')\n",
    "secciones.set_title(1, 'Inserta tu nombre')\n",
    "secciones"
   ]
  },
  {
   "cell_type": "code",
   "execution_count": null,
   "id": "153c5dcd",
   "metadata": {},
   "outputs": [],
   "source": [
    "secciones.selected_index = 0     # Al ejecutar la celda, se controla qué \n",
    "                                 # sección estará visible para el usuario.\n",
    "                                 # Varíe el parámetro entre 0 y 1"
   ]
  },
  {
   "cell_type": "markdown",
   "id": "c0c9c98d",
   "metadata": {},
   "source": [
    "## 3. Widgets de salida\n",
    "\n",
    "Un widget de salida puede almacenar y mostrar todo lo que acumule stdout y stderr: texto, ecuaciones, vídeos, gráficas, etc."
   ]
  },
  {
   "cell_type": "code",
   "execution_count": null,
   "id": "e2a000d3",
   "metadata": {},
   "outputs": [],
   "source": [
    "import ipywidgets as widgets\n",
    "from IPython.display import display\n",
    "out = widgets.Output(layout={'border': '2px solid red'})\n",
    "out.append_stdout('Salida personalizada para el usuario:')\n",
    "display(out)"
   ]
  },
  {
   "cell_type": "markdown",
   "id": "a0ef0cb6",
   "metadata": {},
   "source": [
    "Es posible añadir contenido directamente sobre un widget de salida según el usuario quiera:"
   ]
  },
  {
   "cell_type": "code",
   "execution_count": null,
   "id": "1086c0ff",
   "metadata": {},
   "outputs": [],
   "source": [
    "with out:\n",
    "    print('')\n",
    "    print('Los resultados para el experimento son:')\n",
    "    for i in range(3):\n",
    "        print(i)"
   ]
  },
  {
   "cell_type": "markdown",
   "id": "7c27c290",
   "metadata": {},
   "source": [
    "E incluso el valor de retorno de una función con el *decorador* `capture` "
   ]
  },
  {
   "cell_type": "code",
   "execution_count": null,
   "id": "2ec7e790",
   "metadata": {},
   "outputs": [],
   "source": [
    "@out.capture()\n",
    "def funcion_con_salida_capturada():\n",
    "    print('Texto almacenado por out')\n",
    "\n",
    "funcion_con_salida_capturada()"
   ]
  },
  {
   "cell_type": "code",
   "execution_count": null,
   "id": "caf9df8c",
   "metadata": {},
   "outputs": [],
   "source": [
    "out.clear_output()"
   ]
  },
  {
   "cell_type": "markdown",
   "id": "5c282856",
   "metadata": {},
   "source": [
    "## 4. Un paso más allá...\n",
    "\n",
    "La función **interact** crea un componente con el que controlar argumentos de una función, para posteriormente llamar a esa función con los argumentos manipulados interactivamente. Por ejemplo:"
   ]
  },
  {
   "cell_type": "code",
   "execution_count": null,
   "id": "904082ae",
   "metadata": {},
   "outputs": [],
   "source": [
    "from ipywidgets import interact\n",
    "\n",
    "def cuadrado(x):\n",
    "    return x*x\n",
    "\n",
    "interact(cuadrado, x=10);"
   ]
  },
  {
   "cell_type": "markdown",
   "id": "01f4f15c",
   "metadata": {},
   "source": [
    "La función **interactive** es parecida a la anterior, pero en este caso el valor de retorno es un widget. Esto permite reusar los widgets o los datos. Además este widget resultante tiene atributos: `children` (elementos contenidos), `kwargs` (argumentos), `result` (resultado)..."
   ]
  },
  {
   "cell_type": "code",
   "execution_count": null,
   "id": "615c7b01",
   "metadata": {},
   "outputs": [],
   "source": [
    "from ipywidgets import interactive\n",
    "from IPython.display import display\n",
    "\n",
    "def sumatorio(a, b):\n",
    "    display (a+b)\n",
    "    return a+b\n",
    "\n",
    "w=interactive(sumatorio, a=10, b=20)\n",
    "display(w)"
   ]
  },
  {
   "cell_type": "markdown",
   "id": "408ac91b",
   "metadata": {},
   "source": [
    "Otro derivado de `interact` es **interactive_output**, que consigue conectar los controles de los sliders, con una función cuyo valor de retorno es capturado en el widget de salida."
   ]
  },
  {
   "cell_type": "code",
   "execution_count": null,
   "id": "717a6374",
   "metadata": {},
   "outputs": [],
   "source": [
    "from ipywidgets import interactive_output\n",
    "\n",
    "a = widgets.IntSlider(description='a')\n",
    "b = widgets.IntSlider(description='b')\n",
    "c = widgets.IntSlider(description='c')\n",
    "def sumatorio(a_i, b_i, c_i):\n",
    "    print('{}+{}+{}={}'.format(a_i, b_i, c_i, a_i+b_i+c_i))\n",
    "\n",
    "layout = widgets.interactive_output(sumatorio, {'a_i': a, 'b_i': b, 'c_i': c})\n",
    "\n",
    "widgets.HBox([widgets.VBox([a, b, c]), layout])"
   ]
  },
  {
   "cell_type": "markdown",
   "id": "083b81a3",
   "metadata": {},
   "source": [
    "## 5. ¡Manos a la obra!\n",
    "\n",
    "Veamos ahora un ejemplo de aplicacióna a la **electrónica**. Se muestra una función que calcula la respuesta en frecuencia de un Filtro de Butterworth Paso Bajo, para posteriormente representarlo gráficamente."
   ]
  },
  {
   "cell_type": "code",
   "execution_count": null,
   "id": "57165baa",
   "metadata": {},
   "outputs": [],
   "source": [
    "import numpy as np\n",
    "import matplotlib.pyplot as plt\n",
    "import scipy.signal as sig\n",
    "from ipywidgets import interact, IntSlider"
   ]
  },
  {
   "cell_type": "code",
   "execution_count": null,
   "id": "00f4130f",
   "metadata": {},
   "outputs": [],
   "source": [
    "# Respuesta en frecuencia de un filtro de Butterworth Paso Bajo\n",
    "\n",
    "@interact(N=IntSlider(min=1, max=10, step=1, value=8),\n",
    "          Wn=IntSlider(min=1, max=1000, step=100, value=100))\n",
    "def represent(N, Wn):\n",
    "    b, a = sig.butter(N=N, Wn=Wn, btype='lowpass', analog=True)\n",
    "\n",
    "    w, h = sig.freqs(b, a)\n",
    "\n",
    "    plt.figure(1, figsize=(10,4))\n",
    "    plt.semilogx(w, 20 * np.log10(abs(h)))\n",
    "    plt.title('Respuesta en frecuencia del Filtro de Butterworth')\n",
    "    plt.xlabel('Frecuencia [radianes / segundo]')\n",
    "    plt.ylabel('Amplitud [dB]')\n",
    "    plt.margins(0, 0.1)\n",
    "    plt.grid(which='both', axis='both')\n",
    "    plt.axvline(Wn ,color='green') # frecuencia de corte\n",
    "    plt.show(plt.figure(1))\n",
    "\n",
    "\n",
    "    plt.figure(2, figsize=(10,4))\n",
    "    plt.semilogx(w, np.arctan2(np.imag(h), np.real(h)))\n",
    "    plt.title('Respuesta en fase del Filtro de Butterworth')\n",
    "    plt.xlabel('Frecuencia [radianes / segundo]')\n",
    "    plt.ylabel('Fase [radianes]')\n",
    "    plt.margins(0, 0.1)\n",
    "    plt.grid(which='both', axis='both')\n",
    "    plt.show(plt.figure(2))"
   ]
  },
  {
   "cell_type": "markdown",
   "id": "982659af",
   "metadata": {},
   "source": [
    "**Varíe** los *Sliders* para modificar el valor del orden y la frecuencia de corte del filtro."
   ]
  }
 ],
 "metadata": {
  "kernelspec": {
   "display_name": "Python 3 (ipykernel)",
   "language": "python",
   "name": "python3"
  },
  "language_info": {
   "codemirror_mode": {
    "name": "ipython",
    "version": 3
   },
   "file_extension": ".py",
   "mimetype": "text/x-python",
   "name": "python",
   "nbconvert_exporter": "python",
   "pygments_lexer": "ipython3",
   "version": "3.9.12"
  }
 },
 "nbformat": 4,
 "nbformat_minor": 5
}
