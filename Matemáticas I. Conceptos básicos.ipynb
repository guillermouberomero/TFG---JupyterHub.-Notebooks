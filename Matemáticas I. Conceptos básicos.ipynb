{
 "cells": [
  {
   "cell_type": "markdown",
   "id": "d03c5d60",
   "metadata": {
    "nbgrader": {
     "grade": false,
     "grade_id": "introduccion",
     "locked": true,
     "schema_version": 3,
     "solution": false,
     "task": false
    }
   },
   "source": [
    "\n",
    "# Matemáticas I. Conceptos básicos\n",
    "\n",
    "En este primer notebook, vamos a tratar algunos ejemplos básicos como toma de contacto con el entorno.\n",
    "\n",
    "![](jupyter.png) \n",
    "![Python_logo](https://www.python.org/static/community_logos/python-logo-master-v3-TM.png)"
   ]
  },
  {
   "cell_type": "markdown",
   "id": "b81b713d",
   "metadata": {},
   "source": [
    "## Ejercicio 1. Sumatorio (3 puntos)\n",
    "\n",
    "Escriba una función que reciba un parámetro $n$ y retorne el valor $res$, de tal forma que:\n",
    "\n",
    "\\begin{equation*}\n",
    "res = \\sum_{k=1}^n \\left ( k^2  \\right)\n",
    "\\end{equation*}\n",
    "\n",
    "Asegúrese de que tiene en cuenta los casos en los que $n<1$, arrojando un error con `ValueError`."
   ]
  },
  {
   "cell_type": "code",
   "execution_count": null,
   "id": "fe23e517",
   "metadata": {
    "nbgrader": {
     "grade": false,
     "grade_id": "ej1_answer",
     "locked": false,
     "schema_version": 3,
     "solution": true,
     "task": false
    }
   },
   "outputs": [],
   "source": [
    "def sumatorio(n):\n",
    "    \" Realice el sumatorio de los cuadrados desde 1 hasta n \"\n",
    "    \n",
    "    ### BEGIN SOLUTION\n",
    "    if n < 1:\n",
    "        raise ValueError(\"n debe ser mayor o igual a 1\")\n",
    "    res=0\n",
    "    for val in range (n+1):\n",
    "        res+=val*val\n",
    "    return res\n",
    "    ### END SOLUTION"
   ]
  },
  {
   "cell_type": "markdown",
   "id": "954cc665",
   "metadata": {},
   "source": [
    "Su función debería imprimir `285` para $n$ =`9`. Compruébelo ejecutando la siguiente celda:"
   ]
  },
  {
   "cell_type": "code",
   "execution_count": null,
   "id": "42214e3d",
   "metadata": {},
   "outputs": [],
   "source": [
    "sumatorio(9)"
   ]
  },
  {
   "cell_type": "code",
   "execution_count": null,
   "id": "6b43148f",
   "metadata": {
    "nbgrader": {
     "grade": true,
     "grade_id": "ej1_testing",
     "locked": true,
     "points": 1.5,
     "schema_version": 3,
     "solution": false,
     "task": false
    }
   },
   "outputs": [],
   "source": [
    "\"Se comprueba que la función retorna el valor correcto para distintas entradas\"\n",
    "\n",
    "assert sumatorio(1) == 1\n",
    "assert sumatorio(4) == 30\n",
    "assert sumatorio(5) == 55\n",
    "assert sumatorio(10) == 385\n",
    "\n",
    "### BEGIN HIDDEN TESTS\n",
    "assert sumatorio(25) == 5525\n",
    "assert sumatorio(37) == 17575\n",
    "### END HIDDEN TESTS"
   ]
  },
  {
   "cell_type": "code",
   "execution_count": null,
   "id": "e99e6216",
   "metadata": {
    "nbgrader": {
     "grade": true,
     "grade_id": "ej1_incorrect_testing",
     "locked": true,
     "points": 1.5,
     "schema_version": 3,
     "solution": false,
     "task": false
    }
   },
   "outputs": [],
   "source": [
    "\"Se comprueba que la función lanza un error para entradas incorrectas\"\n",
    "\n",
    "try:\n",
    "    sumatorio(0)\n",
    "except ValueError:\n",
    "    pass\n",
    "else:\n",
    "    raise AssertionError(\"¡No saltó ningún error!\")\n",
    "\n",
    "### BEGIN HIDDEN TESTS\n",
    "try:\n",
    "    sumatorio(-8)\n",
    "except ValueError:\n",
    "    pass\n",
    "else:\n",
    "    raise AssertionError(\"¡No saltó ningún error!\")\n",
    "### END HIDDEN TESTS"
   ]
  },
  {
   "cell_type": "markdown",
   "id": "c08edf1c",
   "metadata": {},
   "source": [
    "## Ejercicio 2. Exponente (3 puntos)\n",
    "\n",
    "Escriba una función que cumpla los siguientes requisitos:\n",
    "\n",
    "- Recibe un parámetro $num$\n",
    "- Devuelve el exponente de la potencia de 2 que, siendo el resultado menor o igual a $num$, es el más grande.\n",
    "\n",
    "Por ejemplo: `exp(35)` devuelve $5$ ya que $2^5$ es menor que $35$, y $2^6$ se pasa\n",
    "\n",
    "Tenga en cuenta los casos en los que la función no se puede aplicar"
   ]
  },
  {
   "cell_type": "code",
   "execution_count": null,
   "id": "e4164f1c",
   "metadata": {
    "nbgrader": {
     "grade": false,
     "grade_id": "ej2_answer",
     "locked": false,
     "schema_version": 3,
     "solution": true,
     "task": false
    }
   },
   "outputs": [],
   "source": [
    "def exp(num):\n",
    "    \" Calcule el exponente de la mayor potencia de 2, siendo el \"\n",
    "    \" resultado menor que num \"\n",
    "    \n",
    "    ### BEGIN SOLUTION\n",
    "    if num < 1:\n",
    "        raise ValueError(\"n debe ser mayor o igual a 1\")\n",
    "    val=0\n",
    "    result=0\n",
    "    while num>=val:\n",
    "        val=2**(result+1)\n",
    "        result=result+1\n",
    "    return result-1\n",
    "    ### END SOLUTION"
   ]
  },
  {
   "cell_type": "markdown",
   "id": "0e5d315a",
   "metadata": {},
   "source": [
    "Su función debería imprimir $5$ para un valor de entrada de $35$. Compruébelo ejecutando la siguiente celda:"
   ]
  },
  {
   "cell_type": "code",
   "execution_count": null,
   "id": "7a5971be",
   "metadata": {},
   "outputs": [],
   "source": [
    "exp(35)"
   ]
  },
  {
   "cell_type": "code",
   "execution_count": null,
   "id": "76b025b3",
   "metadata": {
    "nbgrader": {
     "grade": true,
     "grade_id": "ej2_testing",
     "locked": true,
     "points": 1.5,
     "schema_version": 3,
     "solution": false,
     "task": false
    }
   },
   "outputs": [],
   "source": [
    "\"Se comprueba que la función retorna el valor correcto para distintas entradas\"\n",
    "\n",
    "assert exp(1) == 0\n",
    "assert exp(12) == 3\n",
    "assert exp(57) == 5\n",
    "assert exp(64) == 6\n",
    "\n",
    "### BEGIN HIDDEN TESTS\n",
    "assert exp(194) == 7\n",
    "assert exp(1024) == 10\n",
    "assert exp(31456) == 14\n",
    "### END HIDDEN TESTS"
   ]
  },
  {
   "cell_type": "code",
   "execution_count": null,
   "id": "49f586f8",
   "metadata": {
    "nbgrader": {
     "grade": true,
     "grade_id": "ej2_incorrect_testing",
     "locked": true,
     "points": 1.5,
     "schema_version": 3,
     "solution": false,
     "task": false
    }
   },
   "outputs": [],
   "source": [
    "\"Se comprueba que la función lanza un error para entradas incorrectas\"\n",
    "\n",
    "try:\n",
    "    exp(0)\n",
    "except ValueError:\n",
    "    pass\n",
    "else:\n",
    "    raise AssertionError(\"¡No saltó ningún error!\")\n",
    "\n",
    "### BEGIN HIDDEN TESTS\n",
    "try:\n",
    "    exp(-54)\n",
    "except ValueError:\n",
    "    pass\n",
    "else:\n",
    "    raise AssertionError(\"¡No saltó ningún error!\")\n",
    "### END HIDDEN TESTS"
   ]
  },
  {
   "cell_type": "markdown",
   "id": "c6f8f2ec",
   "metadata": {},
   "source": [
    "## Ejercicio 3. **$2^a$** Ley de Newton (1 puntos)\n",
    "\n",
    "Escriba en formato LaTeX correctamente la fórmula de la segunda Ley de Newton. No olvide colocar vector donde corresponda.\n",
    "\n",
    "**Bonus:** añada una breve explicación para obtener puntuación extra **(+0,5 pts)**\n"
   ]
  },
  {
   "cell_type": "markdown",
   "id": "8700599a",
   "metadata": {
    "nbgrader": {
     "grade": true,
     "grade_id": "ej3_answer",
     "locked": false,
     "points": 1,
     "schema_version": 3,
     "solution": true,
     "task": false
    }
   },
   "source": [
    "$$ \\sum \\vec{F} = m\\vec{a} $$\n",
    "\n",
    "La segunda ley de Newton establece que si una fuerza neta es aplicada en un objeto, la velocidad del objeto cambiará dado que su dirección o rapidez cambiará."
   ]
  },
  {
   "cell_type": "markdown",
   "id": "0bc17e6f",
   "metadata": {
    "nbgrader": {
     "grade": false,
     "grade_id": "ej4",
     "locked": true,
     "points": 3,
     "schema_version": 3,
     "solution": false,
     "task": true
    }
   },
   "source": [
    "## Ejercicio 4. Representación gráfica (3 puntos)\n",
    "\n",
    "Utilice la librería `matplotlib` para representar gráficamente la recta que pasa por los 5 puntos que usted elija.\n",
    "\n",
    "Explique por qué ha escogido esos puntos. ¿Qué características tienen que tener los puntos para conformar una recta? Escriba la ecuación de la recta: `y=ax+b`\n",
    "\n",
    "**Bonus:** indique el nombre de los ejes cartesianos para obtener puntuación extra **(+0,5 pts)**"
   ]
  },
  {
   "cell_type": "code",
   "execution_count": null,
   "id": "1a343b1b",
   "metadata": {},
   "outputs": [],
   "source": []
  }
 ],
 "metadata": {
  "celltoolbar": "Create Assignment",
  "kernelspec": {
   "display_name": "Python 3 (ipykernel)",
   "language": "python",
   "name": "python3"
  },
  "language_info": {
   "codemirror_mode": {
    "name": "ipython",
    "version": 3
   },
   "file_extension": ".py",
   "mimetype": "text/x-python",
   "name": "python",
   "nbconvert_exporter": "python",
   "pygments_lexer": "ipython3",
   "version": "3.9.12"
  }
 },
 "nbformat": 4,
 "nbformat_minor": 5
}
