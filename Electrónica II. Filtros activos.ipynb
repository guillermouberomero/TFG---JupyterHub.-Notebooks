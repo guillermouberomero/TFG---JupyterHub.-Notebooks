{
 "cells": [
  {
   "cell_type": "markdown",
   "id": "8275bdfa",
   "metadata": {
    "nbgrader": {
     "grade": false,
     "grade_id": "introduccion",
     "locked": true,
     "schema_version": 3,
     "solution": false,
     "task": false
    }
   },
   "source": [
    "\n",
    "# Electrónica II. Filtros activos\n",
    "\n",
    "Este notebook es un ejemplo de una prueba de evaluación continua. Se tratan algunos ejercicios básicos de electrónica, que el alumno deberá completar para ser puntuado posteriormente.\n",
    "\n",
    "![Python_logo](https://www.python.org/static/community_logos/python-logo-master-v3-TM.png)"
   ]
  },
  {
   "cell_type": "markdown",
   "id": "b57a5f2c",
   "metadata": {},
   "source": [
    "## Ejercicio 1. Cálculo del orden de un Filtro de Butterworth (3 puntos)\n",
    "\n",
    "Un filtro es un circuito que permite el paso de señales de unas determinadas frecuencias y atenúa (o impide) el resto. Según el factor de calidad, existen una serie de filtros definidos. Uno de ellos es el filtro de Butterworth.\n",
    "\n",
    "Escriba una función que, recibiendo los parámetros del filtro: $A_{min},   A_{max}   ,  k$ devuelva el orden del filtro de Butterworth.\n",
    "\n",
    "Asegúrese de que tiene en cuenta los casos en los que $A_{min}<=A_{max}$, arrojando un error con `ValueError`.\n"
   ]
  },
  {
   "cell_type": "code",
   "execution_count": null,
   "id": "6378db65",
   "metadata": {},
   "outputs": [],
   "source": [
    "import numpy as np\n",
    "from math import ceil"
   ]
  },
  {
   "cell_type": "code",
   "execution_count": null,
   "id": "12386e85",
   "metadata": {
    "nbgrader": {
     "grade": false,
     "grade_id": "ej1_answer",
     "locked": false,
     "schema_version": 3,
     "solution": true,
     "task": false
    }
   },
   "outputs": [],
   "source": [
    "def butter(Amin,Amax,k):\n",
    "    \"Con la atenuación mínima de la banda suprimida (Amin), la atenuación \"\n",
    "    \"máxima de la banda pasante (Amax), y la selectividad del filtro (k),\"\n",
    "    \"calcule el orden del filtro de Butterworth correspondiente.\"\n",
    "    \n",
    "    ### BEGIN SOLUTION\n",
    "    if Amin <= Amax:\n",
    "        raise ValueError(\"Amin debe ser mayor que Amax\")\n",
    "    D=(np.power(10, 0.1*Amin)-1)/(np.power(10, 0.1*Amax)-1)\n",
    "    n=ceil(np.log(D)/(2*np.log(1/k)))\n",
    "    return n\n",
    "    ### END SOLUTION"
   ]
  },
  {
   "cell_type": "markdown",
   "id": "954cc665",
   "metadata": {},
   "source": [
    "Su función debería imprimir `1` para los valores `[12, 3, 0.053]`, respectivamente. Compruébelo ejecutando la siguiente celda:"
   ]
  },
  {
   "cell_type": "code",
   "execution_count": null,
   "id": "42214e3d",
   "metadata": {},
   "outputs": [],
   "source": [
    "butter(12,3,0.053)"
   ]
  },
  {
   "cell_type": "code",
   "execution_count": null,
   "id": "6b43148f",
   "metadata": {
    "nbgrader": {
     "grade": true,
     "grade_id": "ej1_testing",
     "locked": true,
     "points": 1.5,
     "schema_version": 3,
     "solution": false,
     "task": false
    }
   },
   "outputs": [],
   "source": [
    "\"Se comprueba que la función retorna el valor correcto para distintas entradas\"\n",
    "\n",
    "assert butter(45,3,0.2) == 4\n",
    "assert butter(10,3,0.8) == 5\n",
    "assert butter(27,3,0.36) == 4\n",
    "\n",
    "### BEGIN HIDDEN TESTS\n",
    "assert butter(50,3,0.099) == 3\n",
    "assert butter(14,3,0.759) == 6\n",
    "### END HIDDEN TESTS"
   ]
  },
  {
   "cell_type": "code",
   "execution_count": null,
   "id": "e99e6216",
   "metadata": {
    "nbgrader": {
     "grade": true,
     "grade_id": "ej1_incorrect_testing",
     "locked": true,
     "points": 1.5,
     "schema_version": 3,
     "solution": false,
     "task": false
    }
   },
   "outputs": [],
   "source": [
    "\"Se comprueba que la función lanza un error para entradas incorrectas\"\n",
    "\n",
    "try:\n",
    "    butter(3,12,0.053)\n",
    "except ValueError:\n",
    "    pass\n",
    "else:\n",
    "    raise AssertionError(\"¡No saltó ningún error!\")\n",
    "\n",
    "### BEGIN HIDDEN TESTS\n",
    "try:\n",
    "    butter(3,3,0.053)\n",
    "except ValueError:\n",
    "    pass\n",
    "else:\n",
    "    raise AssertionError(\"¡No saltó ningún error!\")\n",
    "### END HIDDEN TESTS"
   ]
  },
  {
   "cell_type": "markdown",
   "id": "c6f8f2ec",
   "metadata": {},
   "source": [
    "## Ejercicio 2. Filtro Paso Bajo **$1^{er}$**orden (1.5 puntos)\n",
    "\n",
    "Escriba en formato LaTeX correctamente la fórmula del filtro paso bajo de primer orden\n"
   ]
  },
  {
   "cell_type": "markdown",
   "id": "8700599a",
   "metadata": {
    "nbgrader": {
     "grade": true,
     "grade_id": "ej2_answer",
     "locked": false,
     "points": 1.5,
     "schema_version": 3,
     "solution": true,
     "task": false
    }
   },
   "source": [
    "\\begin{equation}\n",
    "F(s) = A_0 * \\frac{1}{1+\\tau s} = A_0 * \\frac{1}{1+\\frac{s}{w_c}}\n",
    "\\end{equation}\n"
   ]
  },
  {
   "cell_type": "markdown",
   "id": "24f568eb",
   "metadata": {},
   "source": [
    "## Ejercicio 3. Filtro activo vs. pasivo (1.5 punto)\n",
    "\n",
    "Indique las diferencias entre un filtro activo y uno pasivo.\n",
    "\n",
    "**Bonus:** ¿Cómo debe ser un filtro para ser considerado ideal? **(+0.5 pts)**"
   ]
  },
  {
   "cell_type": "markdown",
   "id": "2ecab166",
   "metadata": {
    "nbgrader": {
     "grade": true,
     "grade_id": "ej3_answer",
     "locked": false,
     "points": 1.5,
     "schema_version": 3,
     "solution": true,
     "task": false
    }
   },
   "source": [
    "Hay dos tipos de filtros:\n",
    "\n",
    "- Pasivos: únicamente atenúan la señal para algunas frecuencias. Se construyen con R, L, C. Pueden ser usados en frecuencias altas.\n",
    "- Activos: utilizan componentes que pueden presentar ganancia como el Amplificador Operacional (AO). Se suelen usar hasta frecuencias del orden de los MHz, debido a las limitaciones de sus componentes.\n",
    "\n",
    "Un filtro ideal no debe atenuar ni desfasar la señal en la banda pasante (gama de frecuencias que no son alteradas), y debe tener ateuación infinita en la banda rechazada (frecuencias filtradas)."
   ]
  },
  {
   "cell_type": "markdown",
   "id": "0bc17e6f",
   "metadata": {
    "nbgrader": {
     "grade": false,
     "grade_id": "ej4",
     "locked": true,
     "points": 4,
     "schema_version": 3,
     "solution": false,
     "task": true
    }
   },
   "source": [
    "## Ejercicio 4. Respuesta en frecuencia (4 puntos)\n",
    "\n",
    "Represente gráficamente la respuesta en frecuencia de un filtro de Butterworth Paso Bajo, de frecuencia de corte 1 rad/s. Compare los filtros si son de orden 1,2,3...9,10. Como ayuda, puede utilizar las siguientes funciones:\n",
    "- scipy.signal\n",
    "- matplotlib.pyplot\n",
    "\n",
    "Explique qué características tiene un filtro de Butterworth."
   ]
  }
 ],
 "metadata": {
  "celltoolbar": "Create Assignment",
  "kernelspec": {
   "display_name": "Python 3 (ipykernel)",
   "language": "python",
   "name": "python3"
  },
  "language_info": {
   "codemirror_mode": {
    "name": "ipython",
    "version": 3
   },
   "file_extension": ".py",
   "mimetype": "text/x-python",
   "name": "python",
   "nbconvert_exporter": "python",
   "pygments_lexer": "ipython3",
   "version": "3.9.12"
  }
 },
 "nbformat": 4,
 "nbformat_minor": 5
}
